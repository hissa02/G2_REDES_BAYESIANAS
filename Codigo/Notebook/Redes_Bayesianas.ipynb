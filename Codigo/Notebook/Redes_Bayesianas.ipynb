{
  "nbformat": 4,
  "nbformat_minor": 0,
  "metadata": {
    "colab": {
      "provenance": []
    },
    "kernelspec": {
      "name": "python3",
      "display_name": "Python 3"
    },
    "language_info": {
      "name": "python"
    }
  },
  "cells": [
    {
      "cell_type": "markdown",
      "source": [
        "## Redes Bayesianas\n",
        "\n",
        "### Introdução\n",
        "Redes Bayesianas são modelos que usam probabilidade pra representar relações entre variáveis. Elas ajudam a prever eventos com base em dados conhecidos, mesmo quando há incertezas.\n",
        "\n",
        "Neste projeto, a ideia é aplicar redes bayesianas pra prever enchentes em São Luís. As variáveis usadas incluem precipitação nas últimas 24h, intensidade e duração da chuva, nível da maré, bairro, topografia e qualidade da drenagem Com isso, é possível calcular a probabilidade de alagamento em determinadas regiões, ajudando na prevenção e tomada de decisões."
      ],
      "metadata": {
        "id": "ffCkNouYDowY"
      }
    },
    {
      "cell_type": "markdown",
      "source": [
        "## Setup - Instalações e Importações\n",
        "\n",
        "Esta célula instala as bibliotecas necessárias e carrega os dados do GitHub.\n",
        "\n",
        "\n",
        "---\n",
        "\n"
      ],
      "metadata": {
        "id": "yDrgni9cwxFH"
      }
    },
    {
      "cell_type": "code",
      "execution_count": 19,
      "metadata": {
        "id": "XHrNSHOvqACA",
        "colab": {
          "base_uri": "https://localhost:8080/"
        },
        "outputId": "dd4714ce-c06f-4c57-e488-9d0e38c6112c"
      },
      "outputs": [
        {
          "output_type": "stream",
          "name": "stdout",
          "text": [
            "Requirement already satisfied: pgmpy in /usr/local/lib/python3.11/dist-packages (1.0.0)\n",
            "Requirement already satisfied: networkx in /usr/local/lib/python3.11/dist-packages (from pgmpy) (3.4.2)\n",
            "Requirement already satisfied: numpy in /usr/local/lib/python3.11/dist-packages (from pgmpy) (2.0.2)\n",
            "Requirement already satisfied: scipy in /usr/local/lib/python3.11/dist-packages (from pgmpy) (1.15.3)\n",
            "Requirement already satisfied: scikit-learn in /usr/local/lib/python3.11/dist-packages (from pgmpy) (1.6.1)\n",
            "Requirement already satisfied: pandas in /usr/local/lib/python3.11/dist-packages (from pgmpy) (2.2.2)\n",
            "Requirement already satisfied: torch in /usr/local/lib/python3.11/dist-packages (from pgmpy) (2.6.0+cu124)\n",
            "Requirement already satisfied: statsmodels in /usr/local/lib/python3.11/dist-packages (from pgmpy) (0.14.4)\n",
            "Requirement already satisfied: tqdm in /usr/local/lib/python3.11/dist-packages (from pgmpy) (4.67.1)\n",
            "Requirement already satisfied: joblib in /usr/local/lib/python3.11/dist-packages (from pgmpy) (1.5.0)\n",
            "Requirement already satisfied: opt-einsum in /usr/local/lib/python3.11/dist-packages (from pgmpy) (3.4.0)\n",
            "Requirement already satisfied: pyro-ppl in /usr/local/lib/python3.11/dist-packages (from pgmpy) (1.9.1)\n",
            "Requirement already satisfied: python-dateutil>=2.8.2 in /usr/local/lib/python3.11/dist-packages (from pandas->pgmpy) (2.9.0.post0)\n",
            "Requirement already satisfied: pytz>=2020.1 in /usr/local/lib/python3.11/dist-packages (from pandas->pgmpy) (2025.2)\n",
            "Requirement already satisfied: tzdata>=2022.7 in /usr/local/lib/python3.11/dist-packages (from pandas->pgmpy) (2025.2)\n",
            "Requirement already satisfied: pyro-api>=0.1.1 in /usr/local/lib/python3.11/dist-packages (from pyro-ppl->pgmpy) (0.1.2)\n",
            "Requirement already satisfied: filelock in /usr/local/lib/python3.11/dist-packages (from torch->pgmpy) (3.18.0)\n",
            "Requirement already satisfied: typing-extensions>=4.10.0 in /usr/local/lib/python3.11/dist-packages (from torch->pgmpy) (4.13.2)\n",
            "Requirement already satisfied: jinja2 in /usr/local/lib/python3.11/dist-packages (from torch->pgmpy) (3.1.6)\n",
            "Requirement already satisfied: fsspec in /usr/local/lib/python3.11/dist-packages (from torch->pgmpy) (2025.3.2)\n",
            "Requirement already satisfied: nvidia-cuda-nvrtc-cu12==12.4.127 in /usr/local/lib/python3.11/dist-packages (from torch->pgmpy) (12.4.127)\n",
            "Requirement already satisfied: nvidia-cuda-runtime-cu12==12.4.127 in /usr/local/lib/python3.11/dist-packages (from torch->pgmpy) (12.4.127)\n",
            "Requirement already satisfied: nvidia-cuda-cupti-cu12==12.4.127 in /usr/local/lib/python3.11/dist-packages (from torch->pgmpy) (12.4.127)\n",
            "Requirement already satisfied: nvidia-cudnn-cu12==9.1.0.70 in /usr/local/lib/python3.11/dist-packages (from torch->pgmpy) (9.1.0.70)\n",
            "Requirement already satisfied: nvidia-cublas-cu12==12.4.5.8 in /usr/local/lib/python3.11/dist-packages (from torch->pgmpy) (12.4.5.8)\n",
            "Requirement already satisfied: nvidia-cufft-cu12==11.2.1.3 in /usr/local/lib/python3.11/dist-packages (from torch->pgmpy) (11.2.1.3)\n",
            "Requirement already satisfied: nvidia-curand-cu12==10.3.5.147 in /usr/local/lib/python3.11/dist-packages (from torch->pgmpy) (10.3.5.147)\n",
            "Requirement already satisfied: nvidia-cusolver-cu12==11.6.1.9 in /usr/local/lib/python3.11/dist-packages (from torch->pgmpy) (11.6.1.9)\n",
            "Requirement already satisfied: nvidia-cusparse-cu12==12.3.1.170 in /usr/local/lib/python3.11/dist-packages (from torch->pgmpy) (12.3.1.170)\n",
            "Requirement already satisfied: nvidia-cusparselt-cu12==0.6.2 in /usr/local/lib/python3.11/dist-packages (from torch->pgmpy) (0.6.2)\n",
            "Requirement already satisfied: nvidia-nccl-cu12==2.21.5 in /usr/local/lib/python3.11/dist-packages (from torch->pgmpy) (2.21.5)\n",
            "Requirement already satisfied: nvidia-nvtx-cu12==12.4.127 in /usr/local/lib/python3.11/dist-packages (from torch->pgmpy) (12.4.127)\n",
            "Requirement already satisfied: nvidia-nvjitlink-cu12==12.4.127 in /usr/local/lib/python3.11/dist-packages (from torch->pgmpy) (12.4.127)\n",
            "Requirement already satisfied: triton==3.2.0 in /usr/local/lib/python3.11/dist-packages (from torch->pgmpy) (3.2.0)\n",
            "Requirement already satisfied: sympy==1.13.1 in /usr/local/lib/python3.11/dist-packages (from torch->pgmpy) (1.13.1)\n",
            "Requirement already satisfied: mpmath<1.4,>=1.1.0 in /usr/local/lib/python3.11/dist-packages (from sympy==1.13.1->torch->pgmpy) (1.3.0)\n",
            "Requirement already satisfied: threadpoolctl>=3.1.0 in /usr/local/lib/python3.11/dist-packages (from scikit-learn->pgmpy) (3.6.0)\n",
            "Requirement already satisfied: patsy>=0.5.6 in /usr/local/lib/python3.11/dist-packages (from statsmodels->pgmpy) (1.0.1)\n",
            "Requirement already satisfied: packaging>=21.3 in /usr/local/lib/python3.11/dist-packages (from statsmodels->pgmpy) (24.2)\n",
            "Requirement already satisfied: six>=1.5 in /usr/local/lib/python3.11/dist-packages (from python-dateutil>=2.8.2->pandas->pgmpy) (1.17.0)\n",
            "Requirement already satisfied: MarkupSafe>=2.0 in /usr/local/lib/python3.11/dist-packages (from jinja2->torch->pgmpy) (3.0.2)\n"
          ]
        }
      ],
      "source": [
        "!pip install pgmpy\n",
        "#Importando bibliotecas\n",
        "import pandas as pd\n",
        "import numpy as np\n",
        "import matplotlib.pyplot as plt\n",
        "import seaborn as sns\n",
        "import networkx as nx\n",
        "\n",
        "# pgmpy - Redes Bayesianas\n",
        "from pgmpy.models import DiscreteBayesianNetwork\n",
        "from pgmpy.factors.discrete import TabularCPD\n",
        "from pgmpy.inference import VariableElimination\n",
        "from pgmpy.estimators import MaximumLikelihoodEstimator\n",
        "\n",
        "\n",
        "\n",
        "#Datasets no GitHub\n",
        "url_principal = 'https://raw.githubusercontent.com/hissa02/Redes-Bayesianas/Hissa/Codigo/Dataset/sao_luis_eventos_climaticos_limpo.csv'\n",
        "url_pequeno = 'https://raw.githubusercontent.com/hissa02/Redes-Bayesianas/Hissa/Codigo/Dataset/sao_luis_enchentes_limpo.csv'\n"
      ]
    },
    {
      "cell_type": "markdown",
      "source": [],
      "metadata": {
        "id": "wnB4qnI_whCv"
      }
    },
    {
      "cell_type": "markdown",
      "source": [
        "##Tabela para pré-visualização\n",
        "Essa tabela mostra alguns dados retirados dos Datasets\n",
        "\n",
        "\n",
        "---"
      ],
      "metadata": {
        "id": "ZYmd8jmSpebk"
      }
    },
    {
      "cell_type": "code",
      "source": [
        "# Carrega dataset de eventos climáticos em São Luís\n",
        "df = pd.read_csv('https://raw.githubusercontent.com/hissa02/Redes-Bayesianas/Hissa/Codigo/Dataset/sao_luis_eventos_climaticos_limpo.csv')\n",
        "\n",
        "# Carrega dataset de enchentes em São Luís\n",
        "df = pd.read_csv('https://raw.githubusercontent.com/hissa02/Redes-Bayesianas/Hissa/Codigo/Dataset/sao_luis_enchentes_limpo.csv')\n",
        "\n",
        "# Mostra 10 primeiras linhas do dataset\n",
        "df.head(10)\n"
      ],
      "metadata": {
        "id": "qNohyj_KPsxR"
      },
      "execution_count": null,
      "outputs": []
    },
    {
      "cell_type": "markdown",
      "source": [
        "##Grafo da rede\n",
        "Este grafo mostra fatores que afetam enchentes\n",
        "\n",
        "\n",
        "---\n",
        "\n"
      ],
      "metadata": {
        "id": "jbFk56M2ztvo"
      }
    },
    {
      "cell_type": "code",
      "source": [
        "# Definir a estrutura da rede\n",
        "# Intensidade_Chuva → Enchente\n",
        "# Mare → Enchente\n",
        "# Drenagem → Enchente\n",
        "model = DiscreteBayesianNetwork([\n",
        "    ('Intensidade_Chuva', 'Enchente'),\n",
        "    ('Mare', 'Enchente'),\n",
        "    ('Drenagem', 'Enchente')\n",
        "])\n",
        "\n",
        "# Criar o grafo para visualização\n",
        "plt.figure(figsize=(8, 6))\n",
        "\n",
        "# Converter para NetworkX para plotar\n",
        "G = nx.DiGraph()\n",
        "G.add_edges_from(model.edges())\n",
        "\n",
        "# Definir posições dos nós manualmente para melhor visualização\n",
        "pos = {\n",
        "    'Intensidade_Chuva': (0, 1),\n",
        "    'Mare': (-1, 0),\n",
        "    'Drenagem': (1, 0),\n",
        "    'Enchente': (0, -1)\n",
        "}\n",
        "\n",
        "# Desenhar o grafo\n",
        "plt.subplot(111)\n",
        "nx.draw(G, pos,\n",
        "        with_labels=True,\n",
        "        node_color='lightblue',\n",
        "        node_size=2500,\n",
        "        font_size=8.5,\n",
        "        font_weight='bold',\n",
        "        arrows=True,\n",
        "        arrowsize=20,\n",
        "        arrowstyle='->',\n",
        "        edge_color='gray',\n",
        "        linewidths=2)\n",
        "\n",
        "plt.title('Rede Bayesiana: Fatores que Afetam Enchentes em São Luís/MA',\n",
        "          fontsize=14, fontweight='bold', pad=20)\n",
        "\n",
        "# Adicionar legenda\n",
        "plt.text(0, -1.5, 'Setas indicam relações causais',\n",
        "         ha='center', fontsize=10, style='italic')\n",
        "\n",
        "plt.tight_layout()\n",
        "plt.show()\n",
        "\n",
        "# Mostrar informações sobre a rede\n",
        "print(\"\\nRELAÇÕES CAUSAIS:\")\n",
        "print(\"• Intensidade da Chuva → Enchente\")\n",
        "print(\"• Estado da Maré → Enchente\")\n",
        "print(\"• Sistema de Drenagem → Enchente\")\n",
        "print(\"\\nA variável 'Enchente' é influenciada pelas três causas principais.\")"
      ],
      "metadata": {
        "id": "ubE6tTRaosEb"
      },
      "execution_count": null,
      "outputs": []
    },
    {
      "cell_type": "markdown",
      "source": [
        "##Tabela de Probabilidade Condicional para Enchentes\n",
        "\n",
        "---\n",
        "\n"
      ],
      "metadata": {
        "id": "zv1HiubVbY7_"
      }
    },
    {
      "cell_type": "code",
      "source": [
        "cpd_enchente = TabularCPD(\n",
        "    variable='enchente',\n",
        "    variable_card=2,\n",
        "    values=[\n",
        "        [0.95, 0.85, 0.75, 0.90, 0.70, 0.60, 0.80, 0.60, 0.40, 0.75, 0.50, 0.30],\n",
        "        [0.05, 0.15, 0.25, 0.10, 0.30, 0.40, 0.20, 0.40, 0.60, 0.25, 0.50, 0.70]\n",
        "    ],\n",
        "    evidence=['intensidade_chuva', 'mare', 'drenagem'],\n",
        "    evidence_card=[2, 3, 2],\n",
        "    state_names={\n",
        "        'intensidade_chuva': ['fraca', 'intensa'],\n",
        "        'mare': ['baixa', 'media', 'alta'],\n",
        "        'drenagem': ['adequada', 'inadequada'],\n",
        "        'enchente': ['False', 'True']\n",
        "    }\n",
        ")\n",
        "\n",
        "print(cpd_enchente)\n"
      ],
      "metadata": {
        "colab": {
          "base_uri": "https://localhost:8080/"
        },
        "id": "XhvMr3RZFB6M",
        "outputId": "8c63106d-68b6-4457-ab3a-28f133484300"
      },
      "execution_count": 25,
      "outputs": [
        {
          "output_type": "stream",
          "name": "stdout",
          "text": [
            "+-------------------+-----+----------------------------+\n",
            "| intensidade_chuva | ... | intensidade_chuva(intensa) |\n",
            "+-------------------+-----+----------------------------+\n",
            "| mare              | ... | mare(alta)                 |\n",
            "+-------------------+-----+----------------------------+\n",
            "| drenagem          | ... | drenagem(inadequada)       |\n",
            "+-------------------+-----+----------------------------+\n",
            "| enchente(False)   | ... | 0.3                        |\n",
            "+-------------------+-----+----------------------------+\n",
            "| enchente(True)    | ... | 0.7                        |\n",
            "+-------------------+-----+----------------------------+\n"
          ]
        }
      ]
    }
  ]
}