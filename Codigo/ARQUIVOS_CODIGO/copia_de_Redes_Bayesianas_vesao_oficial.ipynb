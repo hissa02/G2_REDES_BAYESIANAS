{
  "cells": [
    {
      "cell_type": "markdown",
      "metadata": {
        "id": "ffCkNouYDowY"
      },
      "source": [
        "## Redes Bayesianas\n",
        "\n",
        "### Introdução\n",
        "Redes Bayesianas são modelos que usam probabilidade pra representar relações entre variáveis. Elas ajudam a prever eventos com base em dados conhecidos, mesmo quando há incertezas.\n",
        "\n",
        "Neste projeto, a ideia é aplicar redes bayesianas pra prever enchentes em São Luís. As variáveis usadas incluem precipitação nas últimas 24h, intensidade e duração da chuva, nível da maré, bairro, topografia e qualidade da drenagem Com isso, é possível calcular a probabilidade de alagamento em determinadas regiões, ajudando na prevenção e tomada de decisões."
      ]
    },
    {
      "cell_type": "markdown",
      "metadata": {
        "id": "yDrgni9cwxFH"
      },
      "source": [
        "## Setup - Instalações e Importações\n",
        "\n",
        "Esta célula instala as bibliotecas necessárias e carrega os dados do GitHub.\n",
        "\n",
        "\n",
        "---\n",
        "\n"
      ]
    },
    {
      "cell_type": "code",
      "execution_count": null,
      "metadata": {
        "colab": {
          "base_uri": "https://localhost:8080/"
        },
        "id": "W4vPA_3jDYmW",
        "outputId": "4315c3e1-8e91-4a0a-e44c-ac195925c8dd"
      },
      "outputs": [
        {
          "name": "stdout",
          "output_type": "stream",
          "text": [
            "Requirement already satisfied: pgmpy in /usr/local/lib/python3.11/dist-packages (1.0.0)\n",
            "Requirement already satisfied: networkx in /usr/local/lib/python3.11/dist-packages (from pgmpy) (3.5)\n",
            "Requirement already satisfied: numpy in /usr/local/lib/python3.11/dist-packages (from pgmpy) (2.0.2)\n",
            "Requirement already satisfied: scipy in /usr/local/lib/python3.11/dist-packages (from pgmpy) (1.15.3)\n",
            "Requirement already satisfied: scikit-learn in /usr/local/lib/python3.11/dist-packages (from pgmpy) (1.6.1)\n",
            "Requirement already satisfied: pandas in /usr/local/lib/python3.11/dist-packages (from pgmpy) (2.2.2)\n",
            "Requirement already satisfied: torch in /usr/local/lib/python3.11/dist-packages (from pgmpy) (2.6.0+cu124)\n",
            "Requirement already satisfied: statsmodels in /usr/local/lib/python3.11/dist-packages (from pgmpy) (0.14.4)\n",
            "Requirement already satisfied: tqdm in /usr/local/lib/python3.11/dist-packages (from pgmpy) (4.67.1)\n",
            "Requirement already satisfied: joblib in /usr/local/lib/python3.11/dist-packages (from pgmpy) (1.5.1)\n",
            "Requirement already satisfied: opt-einsum in /usr/local/lib/python3.11/dist-packages (from pgmpy) (3.4.0)\n",
            "Requirement already satisfied: pyro-ppl in /usr/local/lib/python3.11/dist-packages (from pgmpy) (1.9.1)\n",
            "Requirement already satisfied: python-dateutil>=2.8.2 in /usr/local/lib/python3.11/dist-packages (from pandas->pgmpy) (2.9.0.post0)\n",
            "Requirement already satisfied: pytz>=2020.1 in /usr/local/lib/python3.11/dist-packages (from pandas->pgmpy) (2025.2)\n",
            "Requirement already satisfied: tzdata>=2022.7 in /usr/local/lib/python3.11/dist-packages (from pandas->pgmpy) (2025.2)\n",
            "Requirement already satisfied: pyro-api>=0.1.1 in /usr/local/lib/python3.11/dist-packages (from pyro-ppl->pgmpy) (0.1.2)\n",
            "Requirement already satisfied: filelock in /usr/local/lib/python3.11/dist-packages (from torch->pgmpy) (3.18.0)\n",
            "Requirement already satisfied: typing-extensions>=4.10.0 in /usr/local/lib/python3.11/dist-packages (from torch->pgmpy) (4.14.0)\n",
            "Requirement already satisfied: jinja2 in /usr/local/lib/python3.11/dist-packages (from torch->pgmpy) (3.1.6)\n",
            "Requirement already satisfied: fsspec in /usr/local/lib/python3.11/dist-packages (from torch->pgmpy) (2025.3.2)\n",
            "Requirement already satisfied: nvidia-cuda-nvrtc-cu12==12.4.127 in /usr/local/lib/python3.11/dist-packages (from torch->pgmpy) (12.4.127)\n",
            "Requirement already satisfied: nvidia-cuda-runtime-cu12==12.4.127 in /usr/local/lib/python3.11/dist-packages (from torch->pgmpy) (12.4.127)\n",
            "Requirement already satisfied: nvidia-cuda-cupti-cu12==12.4.127 in /usr/local/lib/python3.11/dist-packages (from torch->pgmpy) (12.4.127)\n",
            "Requirement already satisfied: nvidia-cudnn-cu12==9.1.0.70 in /usr/local/lib/python3.11/dist-packages (from torch->pgmpy) (9.1.0.70)\n",
            "Requirement already satisfied: nvidia-cublas-cu12==12.4.5.8 in /usr/local/lib/python3.11/dist-packages (from torch->pgmpy) (12.4.5.8)\n",
            "Requirement already satisfied: nvidia-cufft-cu12==11.2.1.3 in /usr/local/lib/python3.11/dist-packages (from torch->pgmpy) (11.2.1.3)\n",
            "Requirement already satisfied: nvidia-curand-cu12==10.3.5.147 in /usr/local/lib/python3.11/dist-packages (from torch->pgmpy) (10.3.5.147)\n",
            "Requirement already satisfied: nvidia-cusolver-cu12==11.6.1.9 in /usr/local/lib/python3.11/dist-packages (from torch->pgmpy) (11.6.1.9)\n",
            "Requirement already satisfied: nvidia-cusparse-cu12==12.3.1.170 in /usr/local/lib/python3.11/dist-packages (from torch->pgmpy) (12.3.1.170)\n",
            "Requirement already satisfied: nvidia-cusparselt-cu12==0.6.2 in /usr/local/lib/python3.11/dist-packages (from torch->pgmpy) (0.6.2)\n",
            "Requirement already satisfied: nvidia-nccl-cu12==2.21.5 in /usr/local/lib/python3.11/dist-packages (from torch->pgmpy) (2.21.5)\n",
            "Requirement already satisfied: nvidia-nvtx-cu12==12.4.127 in /usr/local/lib/python3.11/dist-packages (from torch->pgmpy) (12.4.127)\n",
            "Requirement already satisfied: nvidia-nvjitlink-cu12==12.4.127 in /usr/local/lib/python3.11/dist-packages (from torch->pgmpy) (12.4.127)\n",
            "Requirement already satisfied: triton==3.2.0 in /usr/local/lib/python3.11/dist-packages (from torch->pgmpy) (3.2.0)\n",
            "Requirement already satisfied: sympy==1.13.1 in /usr/local/lib/python3.11/dist-packages (from torch->pgmpy) (1.13.1)\n",
            "Requirement already satisfied: mpmath<1.4,>=1.1.0 in /usr/local/lib/python3.11/dist-packages (from sympy==1.13.1->torch->pgmpy) (1.3.0)\n",
            "Requirement already satisfied: threadpoolctl>=3.1.0 in /usr/local/lib/python3.11/dist-packages (from scikit-learn->pgmpy) (3.6.0)\n",
            "Requirement already satisfied: patsy>=0.5.6 in /usr/local/lib/python3.11/dist-packages (from statsmodels->pgmpy) (1.0.1)\n",
            "Requirement already satisfied: packaging>=21.3 in /usr/local/lib/python3.11/dist-packages (from statsmodels->pgmpy) (24.2)\n",
            "Requirement already satisfied: six>=1.5 in /usr/local/lib/python3.11/dist-packages (from python-dateutil>=2.8.2->pandas->pgmpy) (1.17.0)\n",
            "Requirement already satisfied: MarkupSafe>=2.0 in /usr/local/lib/python3.11/dist-packages (from jinja2->torch->pgmpy) (3.0.2)\n"
          ]
        }
      ],
      "source": [
        "!pip install pgmpy"
      ]
    },
    {
      "cell_type": "code",
      "execution_count": null,
      "metadata": {
        "id": "XHrNSHOvqACA"
      },
      "outputs": [],
      "source": [
        "\n",
        "#Importando bibliotecas\n",
        "import pandas as pd\n",
        "import numpy as np\n",
        "import matplotlib.pyplot as plt\n",
        "import seaborn as sns\n",
        "import networkx as nx\n",
        "\n",
        "# pgmpy - Redes Bayesianas\n",
        "from pgmpy.models import DiscreteBayesianNetwork\n",
        "from pgmpy.factors.discrete import TabularCPD\n",
        "from pgmpy.inference import VariableElimination\n",
        "from pgmpy.estimators import MaximumLikelihoodEstimator\n",
        "from pgmpy.estimators import PC\n",
        "\n",
        "\n",
        "#Datasets no GitHub\n",
        "url_principal = 'https://raw.githubusercontent.com/hissa02/Redes-Bayesianas/Hissa/Codigo/Dataset/sao_luis_eventos_climaticos_limpo.csv'\n",
        "url_pequeno = 'https://raw.githubusercontent.com/hissa02/Redes-Bayesianas/Hissa/Codigo/Dataset/sao_luis_enchentes_limpo.csv'\n"
      ]
    },
    {
      "cell_type": "markdown",
      "metadata": {
        "id": "ZYmd8jmSpebk"
      },
      "source": [
        "##Tabela para pré-visualização\n",
        "Essa tabela mostra alguns dados retirados dos Datasets\n",
        "\n",
        "\n",
        "---"
      ]
    },
    {
      "cell_type": "code",
      "execution_count": null,
      "metadata": {
        "colab": {
          "base_uri": "https://localhost:8080/",
          "height": 363
        },
        "id": "qNohyj_KPsxR",
        "outputId": "a4b04007-e8f9-480b-8c25-1fc8adb09354"
      },
      "outputs": [
        {
          "data": {
            "application/vnd.google.colaboratory.intrinsic+json": {
              "summary": "{\n  \"name\": \"df\",\n  \"rows\": 52,\n  \"fields\": [\n    {\n      \"column\": \"precipitacao_mm\",\n      \"properties\": {\n        \"dtype\": \"number\",\n        \"std\": 27.352910828086113,\n        \"min\": 8.3,\n        \"max\": 102.4,\n        \"num_unique_values\": 52,\n        \"samples\": [\n          12.4,\n          31.7,\n          37.3\n        ],\n        \"semantic_type\": \"\",\n        \"description\": \"\"\n      }\n    },\n    {\n      \"column\": \"intensidade_chuva\",\n      \"properties\": {\n        \"dtype\": \"category\",\n        \"num_unique_values\": 3,\n        \"samples\": [\n          \"intensa\",\n          \"moderada\",\n          \"fraca\"\n        ],\n        \"semantic_type\": \"\",\n        \"description\": \"\"\n      }\n    },\n    {\n      \"column\": \"duracao_chuva\",\n      \"properties\": {\n        \"dtype\": \"category\",\n        \"num_unique_values\": 3,\n        \"samples\": [\n          \"6h+\",\n          \"2-6h\",\n          \"<2h\"\n        ],\n        \"semantic_type\": \"\",\n        \"description\": \"\"\n      }\n    },\n    {\n      \"column\": \"mare\",\n      \"properties\": {\n        \"dtype\": \"category\",\n        \"num_unique_values\": 3,\n        \"samples\": [\n          \"alta\",\n          \"m\\u00e9dia\",\n          \"baixa\"\n        ],\n        \"semantic_type\": \"\",\n        \"description\": \"\"\n      }\n    },\n    {\n      \"column\": \"bairro\",\n      \"properties\": {\n        \"dtype\": \"category\",\n        \"num_unique_values\": 8,\n        \"samples\": [\n          \"Vinhais\",\n          \"Alemanha\",\n          \"Centro\"\n        ],\n        \"semantic_type\": \"\",\n        \"description\": \"\"\n      }\n    },\n    {\n      \"column\": \"topografia\",\n      \"properties\": {\n        \"dtype\": \"category\",\n        \"num_unique_values\": 3,\n        \"samples\": [\n          \"baixa\",\n          \"m\\u00e9dia\",\n          \"alta\"\n        ],\n        \"semantic_type\": \"\",\n        \"description\": \"\"\n      }\n    },\n    {\n      \"column\": \"drenagem\",\n      \"properties\": {\n        \"dtype\": \"category\",\n        \"num_unique_values\": 3,\n        \"samples\": [\n          \"inadequada\",\n          \"adequada\",\n          \"regular\"\n        ],\n        \"semantic_type\": \"\",\n        \"description\": \"\"\n      }\n    },\n    {\n      \"column\": \"enchente\",\n      \"properties\": {\n        \"dtype\": \"boolean\",\n        \"num_unique_values\": 2,\n        \"samples\": [\n          false,\n          true\n        ],\n        \"semantic_type\": \"\",\n        \"description\": \"\"\n      }\n    }\n  ]\n}",
              "type": "dataframe",
              "variable_name": "df"
            },
            "text/html": [
              "\n",
              "  <div id=\"df-2ea222a2-3a50-4ea4-b5b6-be1d2c1b38c2\" class=\"colab-df-container\">\n",
              "    <div>\n",
              "<style scoped>\n",
              "    .dataframe tbody tr th:only-of-type {\n",
              "        vertical-align: middle;\n",
              "    }\n",
              "\n",
              "    .dataframe tbody tr th {\n",
              "        vertical-align: top;\n",
              "    }\n",
              "\n",
              "    .dataframe thead th {\n",
              "        text-align: right;\n",
              "    }\n",
              "</style>\n",
              "<table border=\"1\" class=\"dataframe\">\n",
              "  <thead>\n",
              "    <tr style=\"text-align: right;\">\n",
              "      <th></th>\n",
              "      <th>precipitacao_mm</th>\n",
              "      <th>intensidade_chuva</th>\n",
              "      <th>duracao_chuva</th>\n",
              "      <th>mare</th>\n",
              "      <th>bairro</th>\n",
              "      <th>topografia</th>\n",
              "      <th>drenagem</th>\n",
              "      <th>enchente</th>\n",
              "    </tr>\n",
              "  </thead>\n",
              "  <tbody>\n",
              "    <tr>\n",
              "      <th>0</th>\n",
              "      <td>85.2</td>\n",
              "      <td>intensa</td>\n",
              "      <td>6h+</td>\n",
              "      <td>alta</td>\n",
              "      <td>Centro</td>\n",
              "      <td>baixa</td>\n",
              "      <td>inadequada</td>\n",
              "      <td>True</td>\n",
              "    </tr>\n",
              "    <tr>\n",
              "      <th>1</th>\n",
              "      <td>45.1</td>\n",
              "      <td>moderada</td>\n",
              "      <td>2-6h</td>\n",
              "      <td>média</td>\n",
              "      <td>Vinhais</td>\n",
              "      <td>média</td>\n",
              "      <td>adequada</td>\n",
              "      <td>False</td>\n",
              "    </tr>\n",
              "    <tr>\n",
              "      <th>2</th>\n",
              "      <td>92.7</td>\n",
              "      <td>intensa</td>\n",
              "      <td>6h+</td>\n",
              "      <td>alta</td>\n",
              "      <td>João Paulo</td>\n",
              "      <td>baixa</td>\n",
              "      <td>inadequada</td>\n",
              "      <td>True</td>\n",
              "    </tr>\n",
              "    <tr>\n",
              "      <th>3</th>\n",
              "      <td>23.5</td>\n",
              "      <td>fraca</td>\n",
              "      <td>&lt;2h</td>\n",
              "      <td>baixa</td>\n",
              "      <td>Renascença</td>\n",
              "      <td>alta</td>\n",
              "      <td>adequada</td>\n",
              "      <td>False</td>\n",
              "    </tr>\n",
              "    <tr>\n",
              "      <th>4</th>\n",
              "      <td>67.8</td>\n",
              "      <td>intensa</td>\n",
              "      <td>2-6h</td>\n",
              "      <td>média</td>\n",
              "      <td>Cohama</td>\n",
              "      <td>baixa</td>\n",
              "      <td>regular</td>\n",
              "      <td>True</td>\n",
              "    </tr>\n",
              "    <tr>\n",
              "      <th>5</th>\n",
              "      <td>15.2</td>\n",
              "      <td>fraca</td>\n",
              "      <td>&lt;2h</td>\n",
              "      <td>baixa</td>\n",
              "      <td>Alemanha</td>\n",
              "      <td>média</td>\n",
              "      <td>regular</td>\n",
              "      <td>False</td>\n",
              "    </tr>\n",
              "    <tr>\n",
              "      <th>6</th>\n",
              "      <td>76.3</td>\n",
              "      <td>intensa</td>\n",
              "      <td>6h+</td>\n",
              "      <td>alta</td>\n",
              "      <td>São Francisco</td>\n",
              "      <td>baixa</td>\n",
              "      <td>inadequada</td>\n",
              "      <td>True</td>\n",
              "    </tr>\n",
              "    <tr>\n",
              "      <th>7</th>\n",
              "      <td>38.9</td>\n",
              "      <td>moderada</td>\n",
              "      <td>2-6h</td>\n",
              "      <td>baixa</td>\n",
              "      <td>Calhau</td>\n",
              "      <td>baixa</td>\n",
              "      <td>regular</td>\n",
              "      <td>False</td>\n",
              "    </tr>\n",
              "    <tr>\n",
              "      <th>8</th>\n",
              "      <td>55.1</td>\n",
              "      <td>intensa</td>\n",
              "      <td>2-6h</td>\n",
              "      <td>alta</td>\n",
              "      <td>Centro</td>\n",
              "      <td>baixa</td>\n",
              "      <td>inadequada</td>\n",
              "      <td>True</td>\n",
              "    </tr>\n",
              "    <tr>\n",
              "      <th>9</th>\n",
              "      <td>29.7</td>\n",
              "      <td>fraca</td>\n",
              "      <td>2-6h</td>\n",
              "      <td>média</td>\n",
              "      <td>Vinhais</td>\n",
              "      <td>média</td>\n",
              "      <td>adequada</td>\n",
              "      <td>False</td>\n",
              "    </tr>\n",
              "  </tbody>\n",
              "</table>\n",
              "</div>\n",
              "    <div class=\"colab-df-buttons\">\n",
              "\n",
              "  <div class=\"colab-df-container\">\n",
              "    <button class=\"colab-df-convert\" onclick=\"convertToInteractive('df-2ea222a2-3a50-4ea4-b5b6-be1d2c1b38c2')\"\n",
              "            title=\"Convert this dataframe to an interactive table.\"\n",
              "            style=\"display:none;\">\n",
              "\n",
              "  <svg xmlns=\"http://www.w3.org/2000/svg\" height=\"24px\" viewBox=\"0 -960 960 960\">\n",
              "    <path d=\"M120-120v-720h720v720H120Zm60-500h600v-160H180v160Zm220 220h160v-160H400v160Zm0 220h160v-160H400v160ZM180-400h160v-160H180v160Zm440 0h160v-160H620v160ZM180-180h160v-160H180v160Zm440 0h160v-160H620v160Z\"/>\n",
              "  </svg>\n",
              "    </button>\n",
              "\n",
              "  <style>\n",
              "    .colab-df-container {\n",
              "      display:flex;\n",
              "      gap: 12px;\n",
              "    }\n",
              "\n",
              "    .colab-df-convert {\n",
              "      background-color: #E8F0FE;\n",
              "      border: none;\n",
              "      border-radius: 50%;\n",
              "      cursor: pointer;\n",
              "      display: none;\n",
              "      fill: #1967D2;\n",
              "      height: 32px;\n",
              "      padding: 0 0 0 0;\n",
              "      width: 32px;\n",
              "    }\n",
              "\n",
              "    .colab-df-convert:hover {\n",
              "      background-color: #E2EBFA;\n",
              "      box-shadow: 0px 1px 2px rgba(60, 64, 67, 0.3), 0px 1px 3px 1px rgba(60, 64, 67, 0.15);\n",
              "      fill: #174EA6;\n",
              "    }\n",
              "\n",
              "    .colab-df-buttons div {\n",
              "      margin-bottom: 4px;\n",
              "    }\n",
              "\n",
              "    [theme=dark] .colab-df-convert {\n",
              "      background-color: #3B4455;\n",
              "      fill: #D2E3FC;\n",
              "    }\n",
              "\n",
              "    [theme=dark] .colab-df-convert:hover {\n",
              "      background-color: #434B5C;\n",
              "      box-shadow: 0px 1px 3px 1px rgba(0, 0, 0, 0.15);\n",
              "      filter: drop-shadow(0px 1px 2px rgba(0, 0, 0, 0.3));\n",
              "      fill: #FFFFFF;\n",
              "    }\n",
              "  </style>\n",
              "\n",
              "    <script>\n",
              "      const buttonEl =\n",
              "        document.querySelector('#df-2ea222a2-3a50-4ea4-b5b6-be1d2c1b38c2 button.colab-df-convert');\n",
              "      buttonEl.style.display =\n",
              "        google.colab.kernel.accessAllowed ? 'block' : 'none';\n",
              "\n",
              "      async function convertToInteractive(key) {\n",
              "        const element = document.querySelector('#df-2ea222a2-3a50-4ea4-b5b6-be1d2c1b38c2');\n",
              "        const dataTable =\n",
              "          await google.colab.kernel.invokeFunction('convertToInteractive',\n",
              "                                                    [key], {});\n",
              "        if (!dataTable) return;\n",
              "\n",
              "        const docLinkHtml = 'Like what you see? Visit the ' +\n",
              "          '<a target=\"_blank\" href=https://colab.research.google.com/notebooks/data_table.ipynb>data table notebook</a>'\n",
              "          + ' to learn more about interactive tables.';\n",
              "        element.innerHTML = '';\n",
              "        dataTable['output_type'] = 'display_data';\n",
              "        await google.colab.output.renderOutput(dataTable, element);\n",
              "        const docLink = document.createElement('div');\n",
              "        docLink.innerHTML = docLinkHtml;\n",
              "        element.appendChild(docLink);\n",
              "      }\n",
              "    </script>\n",
              "  </div>\n",
              "\n",
              "\n",
              "    <div id=\"df-7cef6b4e-fbe5-4f06-88d5-2ffc77d9f6b4\">\n",
              "      <button class=\"colab-df-quickchart\" onclick=\"quickchart('df-7cef6b4e-fbe5-4f06-88d5-2ffc77d9f6b4')\"\n",
              "                title=\"Suggest charts\"\n",
              "                style=\"display:none;\">\n",
              "\n",
              "<svg xmlns=\"http://www.w3.org/2000/svg\" height=\"24px\"viewBox=\"0 0 24 24\"\n",
              "     width=\"24px\">\n",
              "    <g>\n",
              "        <path d=\"M19 3H5c-1.1 0-2 .9-2 2v14c0 1.1.9 2 2 2h14c1.1 0 2-.9 2-2V5c0-1.1-.9-2-2-2zM9 17H7v-7h2v7zm4 0h-2V7h2v10zm4 0h-2v-4h2v4z\"/>\n",
              "    </g>\n",
              "</svg>\n",
              "      </button>\n",
              "\n",
              "<style>\n",
              "  .colab-df-quickchart {\n",
              "      --bg-color: #E8F0FE;\n",
              "      --fill-color: #1967D2;\n",
              "      --hover-bg-color: #E2EBFA;\n",
              "      --hover-fill-color: #174EA6;\n",
              "      --disabled-fill-color: #AAA;\n",
              "      --disabled-bg-color: #DDD;\n",
              "  }\n",
              "\n",
              "  [theme=dark] .colab-df-quickchart {\n",
              "      --bg-color: #3B4455;\n",
              "      --fill-color: #D2E3FC;\n",
              "      --hover-bg-color: #434B5C;\n",
              "      --hover-fill-color: #FFFFFF;\n",
              "      --disabled-bg-color: #3B4455;\n",
              "      --disabled-fill-color: #666;\n",
              "  }\n",
              "\n",
              "  .colab-df-quickchart {\n",
              "    background-color: var(--bg-color);\n",
              "    border: none;\n",
              "    border-radius: 50%;\n",
              "    cursor: pointer;\n",
              "    display: none;\n",
              "    fill: var(--fill-color);\n",
              "    height: 32px;\n",
              "    padding: 0;\n",
              "    width: 32px;\n",
              "  }\n",
              "\n",
              "  .colab-df-quickchart:hover {\n",
              "    background-color: var(--hover-bg-color);\n",
              "    box-shadow: 0 1px 2px rgba(60, 64, 67, 0.3), 0 1px 3px 1px rgba(60, 64, 67, 0.15);\n",
              "    fill: var(--button-hover-fill-color);\n",
              "  }\n",
              "\n",
              "  .colab-df-quickchart-complete:disabled,\n",
              "  .colab-df-quickchart-complete:disabled:hover {\n",
              "    background-color: var(--disabled-bg-color);\n",
              "    fill: var(--disabled-fill-color);\n",
              "    box-shadow: none;\n",
              "  }\n",
              "\n",
              "  .colab-df-spinner {\n",
              "    border: 2px solid var(--fill-color);\n",
              "    border-color: transparent;\n",
              "    border-bottom-color: var(--fill-color);\n",
              "    animation:\n",
              "      spin 1s steps(1) infinite;\n",
              "  }\n",
              "\n",
              "  @keyframes spin {\n",
              "    0% {\n",
              "      border-color: transparent;\n",
              "      border-bottom-color: var(--fill-color);\n",
              "      border-left-color: var(--fill-color);\n",
              "    }\n",
              "    20% {\n",
              "      border-color: transparent;\n",
              "      border-left-color: var(--fill-color);\n",
              "      border-top-color: var(--fill-color);\n",
              "    }\n",
              "    30% {\n",
              "      border-color: transparent;\n",
              "      border-left-color: var(--fill-color);\n",
              "      border-top-color: var(--fill-color);\n",
              "      border-right-color: var(--fill-color);\n",
              "    }\n",
              "    40% {\n",
              "      border-color: transparent;\n",
              "      border-right-color: var(--fill-color);\n",
              "      border-top-color: var(--fill-color);\n",
              "    }\n",
              "    60% {\n",
              "      border-color: transparent;\n",
              "      border-right-color: var(--fill-color);\n",
              "    }\n",
              "    80% {\n",
              "      border-color: transparent;\n",
              "      border-right-color: var(--fill-color);\n",
              "      border-bottom-color: var(--fill-color);\n",
              "    }\n",
              "    90% {\n",
              "      border-color: transparent;\n",
              "      border-bottom-color: var(--fill-color);\n",
              "    }\n",
              "  }\n",
              "</style>\n",
              "\n",
              "      <script>\n",
              "        async function quickchart(key) {\n",
              "          const quickchartButtonEl =\n",
              "            document.querySelector('#' + key + ' button');\n",
              "          quickchartButtonEl.disabled = true;  // To prevent multiple clicks.\n",
              "          quickchartButtonEl.classList.add('colab-df-spinner');\n",
              "          try {\n",
              "            const charts = await google.colab.kernel.invokeFunction(\n",
              "                'suggestCharts', [key], {});\n",
              "          } catch (error) {\n",
              "            console.error('Error during call to suggestCharts:', error);\n",
              "          }\n",
              "          quickchartButtonEl.classList.remove('colab-df-spinner');\n",
              "          quickchartButtonEl.classList.add('colab-df-quickchart-complete');\n",
              "        }\n",
              "        (() => {\n",
              "          let quickchartButtonEl =\n",
              "            document.querySelector('#df-7cef6b4e-fbe5-4f06-88d5-2ffc77d9f6b4 button');\n",
              "          quickchartButtonEl.style.display =\n",
              "            google.colab.kernel.accessAllowed ? 'block' : 'none';\n",
              "        })();\n",
              "      </script>\n",
              "    </div>\n",
              "\n",
              "    </div>\n",
              "  </div>\n"
            ],
            "text/plain": [
              "   precipitacao_mm intensidade_chuva duracao_chuva   mare         bairro  \\\n",
              "0             85.2           intensa           6h+   alta         Centro   \n",
              "1             45.1          moderada          2-6h  média        Vinhais   \n",
              "2             92.7           intensa           6h+   alta     João Paulo   \n",
              "3             23.5             fraca           <2h  baixa     Renascença   \n",
              "4             67.8           intensa          2-6h  média         Cohama   \n",
              "5             15.2             fraca           <2h  baixa       Alemanha   \n",
              "6             76.3           intensa           6h+   alta  São Francisco   \n",
              "7             38.9          moderada          2-6h  baixa         Calhau   \n",
              "8             55.1           intensa          2-6h   alta         Centro   \n",
              "9             29.7             fraca          2-6h  média        Vinhais   \n",
              "\n",
              "  topografia    drenagem  enchente  \n",
              "0      baixa  inadequada      True  \n",
              "1      média    adequada     False  \n",
              "2      baixa  inadequada      True  \n",
              "3       alta    adequada     False  \n",
              "4      baixa     regular      True  \n",
              "5      média     regular     False  \n",
              "6      baixa  inadequada      True  \n",
              "7      baixa     regular     False  \n",
              "8      baixa  inadequada      True  \n",
              "9      média    adequada     False  "
            ]
          },
          "execution_count": 61,
          "metadata": {},
          "output_type": "execute_result"
        }
      ],
      "source": [
        "# Carrega dataset de eventos climáticos em São Luís\n",
        "#df = pd.read_csv('https://raw.githubusercontent.com/hissa02/Redes-Bayesianas/Hissa/Codigo/Dataset/sao_luis_eventos_climaticos_limpo.csv')\n",
        "\n",
        "# Carrega dataset de enchentes em São Luís\n",
        "df = pd.read_csv('https://raw.githubusercontent.com/hissa02/Redes-Bayesianas/Hissa/Codigo/Dataset/sao_luis_enchentes_limpo.csv')\n",
        "\n",
        "# Mostra 10 primeiras linhas do dataset\n",
        "df.head(10)\n"
      ]
    },
    {
      "cell_type": "markdown",
      "metadata": {},
      "source": [
        "##Análise Exploratória"
      ]
    },
    {
      "cell_type": "code",
      "execution_count": null,
      "metadata": {},
      "outputs": [],
      "source": [
        "# Mostra (número_de_linhas, número_de_colunas)\n",
        "print(f\"O conjunto de dados tem {df.shape[0]} linhas e {df.shape[1]} colunas.\")"
      ]
    },
    {
      "cell_type": "markdown",
      "metadata": {},
      "source": [
        "##_Informações Gerais e Tipos de Dados_\n",
        "A função .info() é uma das mais úteis. Ela fornece um resumo completo:\n",
        "\n",
        "- Número de linhas e colunas.\n",
        "- Nome de cada coluna.\n",
        "- Quantidade de valores não nulos por coluna.\n",
        "O tipo de dado (Dtype) de cada coluna (ex: int64 para inteiros, float64 para decimais, object para texto, bool para verdadeiro/falso)."
      ]
    },
    {
      "cell_type": "code",
      "execution_count": null,
      "metadata": {},
      "outputs": [],
      "source": [
        "# Mostra um resumo técnico do DataFrame\n",
        "df.info()"
      ]
    },
    {
      "cell_type": "markdown",
      "metadata": {},
      "source": [
        "##_Limpeza dos Dados_\n",
        "\n",
        "\n",
        "```\n",
        "# Isto` está formatado como código`\n",
        "```\n",
        "\n",
        "Esta é a fase de \"faxina\".\n",
        "\n",
        "- Verificar valores ausentes: Use .isnull().sum() para contar quantos valores NaN existem em cada coluna.\n",
        "\n",
        "- Verificar dados duplicados: É importante garantir que não há registros repetidos."
      ]
    },
    {
      "cell_type": "code",
      "execution_count": null,
      "metadata": {},
      "outputs": [],
      "source": [
        "# Conta o número de valores nulos por coluna\n",
        "print(df.isnull().sum())"
      ]
    },
    {
      "cell_type": "code",
      "execution_count": null,
      "metadata": {},
      "outputs": [],
      "source": [
        "# Conta o número de linhas duplicadas\n",
        "duplicados = df.duplicated().sum()\n",
        "print(f\"Número de linhas duplicadas: {duplicados}\")\n",
        "\n",
        "# Se houver, você pode removê-las\n",
        "if duplicados > 0:\n",
        "    df = df.drop_duplicates()\n",
        "    print(\"Linhas duplicadas foram removidas.\")"
      ]
    },
    {
      "cell_type": "markdown",
      "metadata": {},
      "source": [
        "##_Análise Descritiva_\n",
        "Agora que os dados estão mais limpos, vamos resumir as informações.\n",
        "\n",
        "- Para variáveis numéricas: A função .describe() é perfeita. Ela calcula automaticamente:\n",
        "\n",
        "- count: Contagem de valores não nulos.\n",
        "- mean: Média.\n",
        "- std: Desvio padrão.\n",
        "- min: Valor mínimo.\n",
        " -25%, 50%, 75%: Percentis (o valor 50% é a mediana).\n",
        "\n",
        "\n",
        "- Para variáveis categóricas (texto): Use .value_counts() para contar a frequência de cada categoria."
      ]
    },
    {
      "cell_type": "code",
      "execution_count": null,
      "metadata": {},
      "outputs": [],
      "source": [
        "# Gera estatísticas descritivas para colunas numéricas\n",
        "print(df.describe())"
      ]
    },
    {
      "cell_type": "code",
      "execution_count": null,
      "metadata": {},
      "outputs": [],
      "source": [
        "# Conta quantas vezes cada bairro aparece\n",
        "if 'bairro' in df.columns:\n",
        "    print(df['bairro'].value_counts())\n",
        "\n",
        "# Conta quantas casas alagaram ou não\n",
        "if 'alagou_casa' in df.columns:\n",
        "    print(df['alagou_casa'].value_counts())"
      ]
    },
    {
      "cell_type": "markdown",
      "metadata": {
        "id": "ocbhg7f737v-"
      },
      "source": [
        "##Normalização dos dados categóricos(validação dos valores únicos)\n",
        "Garantimos que não há inconsistências nos valores das variáveis categóricas, como erros de digitação ou diferenças de maiúsculas/minúsculas.\n",
        "\n",
        "- Reduz erros na estimativa de CPDs(por conta de duplicidade de categorias)\n",
        "- Garante consistência nas inferências"
      ]
    },
    {
      "cell_type": "code",
      "execution_count": null,
      "metadata": {
        "colab": {
          "base_uri": "https://localhost:8080/"
        },
        "id": "Ecg_Jjab22Ip",
        "outputId": "58121a40-9d4d-41dd-bdf9-49f42389b983"
      },
      "outputs": [
        {
          "name": "stdout",
          "output_type": "stream",
          "text": [
            "Valores únicos - Topografia: ['baixa' 'média' 'alta']\n",
            "Valores únicos - Drenagem: ['inadequada' 'adequada' 'regular']\n",
            "Valores únicos - Bairro: ['centro' 'vinhais' 'joão paulo' 'renascença' 'cohama'] ...\n"
          ]
        }
      ],
      "source": [
        "# Normalizar valores categóricos para minúsculas e remover espaços extras\n",
        "df['bairro'] = df['bairro'].str.lower().str.strip()\n",
        "df['topografia'] = df['topografia'].str.lower().str.strip()\n",
        "df['drenagem'] = df['drenagem'].str.lower().str.strip()\n",
        "df['enchente'] = df['enchente'].astype(bool)  # Garante que esteja como booleano\n",
        "\n",
        "# Verificar os valores únicos\n",
        "print(\"Valores únicos - Topografia:\", df['topografia'].unique())\n",
        "print(\"Valores únicos - Drenagem:\", df['drenagem'].unique())\n",
        "print(\"Valores únicos - Bairro:\", df['bairro'].unique()[:5], \"...\")  # Mostra só os 5 primeiros\n"
      ]
    },
    {
      "cell_type": "markdown",
      "metadata": {
        "id": "exWwl-NxmRzA"
      },
      "source": [
        "##Estimar estrutura\n",
        "Esta célula mostra as principais variáveis que influenciam na probabilidade de enchente\n",
        "\n",
        "---\n",
        "\n"
      ]
    },
    {
      "cell_type": "code",
      "execution_count": null,
      "metadata": {
        "colab": {
          "base_uri": "https://localhost:8080/",
          "height": 156,
          "referenced_widgets": [
            "e1bb77c5f63346648c9f3f59219508da",
            "c06d4ac1e3bc493c9c9f6b51c8610852",
            "78a704ad9bc745a28309ae8c6c115bc5",
            "0ae48da7755f4aa49999258983507571",
            "d12cd12b75d54a44b6a7f2ba743b917e",
            "8701e0dd554f499e9e46c094a1bc2433",
            "2f4de3aa2323458198d1697baf80826c",
            "65f5cfa2eac64739a1fa363adb891c65",
            "7f20a235ad48455ca551bdb0ed395d6d",
            "81f012d2c5f74d6082e2909729964189",
            "7f47cc8266594fcab7517b2209178a01"
          ]
        },
        "id": "A4yuKAJiriRX",
        "outputId": "cb657668-be33-468b-da17-afeec7103c9a"
      },
      "outputs": [
        {
          "data": {
            "application/vnd.jupyter.widget-view+json": {
              "model_id": "e1bb77c5f63346648c9f3f59219508da",
              "version_major": 2,
              "version_minor": 0
            },
            "text/plain": [
              "  0%|          | 0/5 [00:00<?, ?it/s]"
            ]
          },
          "metadata": {},
          "output_type": "display_data"
        },
        {
          "name": "stdout",
          "output_type": "stream",
          "text": [
            "Estrutura estimada:\n",
            "[('bairro', 'drenagem'), ('bairro', 'topografia'), ('drenagem', 'topografia'), ('drenagem', 'enchente'), ('drenagem', 'bairro'), ('topografia', 'bairro'), ('topografia', 'drenagem'), ('enchente', 'drenagem')]\n",
            "\n",
            "Nós da rede:\n",
            "['bairro', 'drenagem', 'topografia', 'enchente', 'precipitacao_mm', 'duracao_chuva', 'mare', 'intensidade_chuva']\n"
          ]
        }
      ],
      "source": [
        "est = PC( df )\n",
        "modelo_estimado = est.estimate(variant = 'stable' , max_cond_vars=4)\n",
        "print(\"Estrutura estimada:\")\n",
        "print(modelo_estimado.edges())\n",
        "\n",
        "print(\"\\nNós da rede:\")\n",
        "print(modelo_estimado.nodes())\n"
      ]
    },
    {
      "cell_type": "markdown",
      "metadata": {
        "id": "TpET2JnQ8d0C"
      },
      "source": []
    },
    {
      "cell_type": "markdown",
      "metadata": {
        "id": "jbFk56M2ztvo"
      },
      "source": [
        "##Grafo da rede\n",
        "Este grafo mostra as principais variáveis que influenciam na probabilidade de enchente\n",
        "\n",
        "\n",
        "---\n",
        "\n"
      ]
    },
    {
      "cell_type": "code",
      "execution_count": null,
      "metadata": {
        "colab": {
          "base_uri": "https://localhost:8080/",
          "height": 933
        },
        "id": "ubE6tTRaosEb",
        "outputId": "342a5ed6-9d77-4078-8a79-d38309d3b752"
      },
      "outputs": [
        {
          "data": {
            "image/png": "[encoded data removed]",
            "text/plain": [
              "<Figure size 800x800 with 1 Axes>"
            ]
          },
          "metadata": {},
          "output_type": "display_data"
        },
        {
          "name": "stdout",
          "output_type": "stream",
          "text": [
            "\n",
            "RELAÇÕES CAUSAIS DESCOBERTAS:\n",
            "• Topografia → Drenagem\n",
            "• Bairro → Drenagem\n",
            "• Drenagem → Enchente\n",
            "\n",
            "A análise dos dados mostra que fatores geográficos são mais determinantes.\n"
          ]
        }
      ],
      "source": [
        "# Definir a estrutura da rede baseada na descoberta automática\n",
        "# Drenagem → Enchente\n",
        "# Bairro → Drenagem\n",
        "# Topografia → Drenagem\n",
        "model = DiscreteBayesianNetwork([\n",
        "    ('drenagem', 'enchente'),\n",
        "    ('bairro', 'drenagem'),\n",
        "    ('topografia', 'drenagem')\n",
        "])\n",
        "\n",
        "# Criar o grafo para visualização\n",
        "plt.figure(figsize=(8, 8))\n",
        "\n",
        "# Converter para NetworkX para plotar\n",
        "G = nx.DiGraph()\n",
        "G.add_edges_from(model.edges())\n",
        "\n",
        "# Definir posições dos nós manualmente para melhor visualização\n",
        "pos = {\n",
        "    'topografia': (-1, 1),\n",
        "    'bairro': (1, 1),\n",
        "    'drenagem': (0, 0),\n",
        "    'enchente': (0, -1)\n",
        "}\n",
        "\n",
        "# Desenhar o grafo\n",
        "plt.subplot(111)\n",
        "nx.draw(G, pos,\n",
        "        with_labels=True,\n",
        "        node_color='lightgreen',\n",
        "        node_size=3500,\n",
        "        font_size=8.5,\n",
        "        font_weight='bold',\n",
        "        arrows=True,\n",
        "        arrowsize=20,\n",
        "        arrowstyle='->',\n",
        "        edge_color='gray',\n",
        "        linewidths=2)\n",
        "\n",
        "plt.title('Rede Bayesiana: Fatores Geográficos que Afetam Enchentes em São Luís/MA',\n",
        "          fontsize=14, fontweight='bold', pad=20)\n",
        "\n",
        "# Adicionar legenda\n",
        "plt.text(0, -1.5, 'Estrutura descoberta automaticamente dos dados',\n",
        "         ha='center', fontsize=10, style='italic')\n",
        "\n",
        "plt.tight_layout()\n",
        "plt.show()\n",
        "\n",
        "# Mostrar informações sobre a rede\n",
        "print(\"\\nRELAÇÕES CAUSAIS DESCOBERTAS:\")\n",
        "print(\"• Topografia → Drenagem\")\n",
        "print(\"• Bairro → Drenagem\")\n",
        "print(\"• Drenagem → Enchente\")\n",
        "print(\"\\nA análise dos dados mostra que fatores geográficos são mais determinantes.\")"
      ]
    },
    {
      "cell_type": "markdown",
      "metadata": {
        "id": "Q0bgfVfPClqh"
      },
      "source": [
        "##Estimação das Tabelas de Probabilidades Condicional(CPDs)\n",
        "Com a estrutura da Rede Bayesiana definida (focando nos fatores geográficos), o passo crucial é estimar as Tabelas de Probabilidade Condicional (CPDs) para cada variável da rede. As CPDs quantificam as relações probabilísticas entre as variáveis.\n",
        "\n",
        "Utilizaremos o `MaximumLikelihoodEstimator` da `pgmpy` para aprender essas probabilidades a partir dos dados do DataFrame `df` (proveniente do `sao_luis_enchentes_limpo.csv`)."
      ]
    },
    {
      "cell_type": "code",
      "execution_count": null,
      "metadata": {
        "colab": {
          "base_uri": "https://localhost:8080/"
        },
        "id": "qb_3P_BZ8Rb2",
        "outputId": "0a340137-5f98-4226-9419-de736fde24a5"
      },
      "outputs": [
        {
          "name": "stdout",
          "output_type": "stream",
          "text": [
            "Estimando CPDs para o modelo...\n",
            "Estimação de CPDs concluída.\n",
            "\n",
            "CPDs Estimadas para o Modelo:\n",
            "\n",
            "CPD para a variável: drenagem\n",
            "------------------------------------\n",
            "+----------------------+-----+-------------------+\n",
            "| bairro               | ... | bairro(vinhais)   |\n",
            "+----------------------+-----+-------------------+\n",
            "| topografia           | ... | topografia(média) |\n",
            "+----------------------+-----+-------------------+\n",
            "| drenagem(adequada)   | ... | 1.0               |\n",
            "+----------------------+-----+-------------------+\n",
            "| drenagem(inadequada) | ... | 0.0               |\n",
            "+----------------------+-----+-------------------+\n",
            "| drenagem(regular)    | ... | 0.0               |\n",
            "+----------------------+-----+-------------------+\n",
            "(Nota: A CPD para 'drenagem' é extensa devido ao número de combinações dos pais 'bairro' e 'topografia')\n",
            "  Número de estados de 'bairro': 8\n",
            "  Número de estados de 'topografia': 3\n",
            "  Número de estados de 'drenagem': 3\n",
            "\n",
            "CPD para a variável: enchente\n",
            "------------------------------------\n",
            "+-----------------+-----+--------------------+\n",
            "| drenagem        | ... | drenagem(regular)  |\n",
            "+-----------------+-----+--------------------+\n",
            "| enchente(False) | ... | 0.7222222222222222 |\n",
            "+-----------------+-----+--------------------+\n",
            "| enchente(True)  | ... | 0.2777777777777778 |\n",
            "+-----------------+-----+--------------------+\n",
            "\n",
            "CPD para a variável: bairro\n",
            "------------------------------------\n",
            "+-----------------------+----------+\n",
            "| bairro(alemanha)      | 0.115385 |\n",
            "+-----------------------+----------+\n",
            "| bairro(calhau)        | 0.115385 |\n",
            "+-----------------------+----------+\n",
            "| bairro(centro)        | 0.153846 |\n",
            "+-----------------------+----------+\n",
            "| bairro(cohama)        | 0.115385 |\n",
            "+-----------------------+----------+\n",
            "| bairro(joão paulo)    | 0.134615 |\n",
            "+-----------------------+----------+\n",
            "| bairro(renascença)    | 0.115385 |\n",
            "+-----------------------+----------+\n",
            "| bairro(são francisco) | 0.115385 |\n",
            "+-----------------------+----------+\n",
            "| bairro(vinhais)       | 0.134615 |\n",
            "+-----------------------+----------+\n",
            "\n",
            "CPD para a variável: topografia\n",
            "------------------------------------\n",
            "+-------------------+----------+\n",
            "| topografia(alta)  | 0.115385 |\n",
            "+-------------------+----------+\n",
            "| topografia(baixa) | 0.634615 |\n",
            "+-------------------+----------+\n",
            "| topografia(média) | 0.25     |\n",
            "+-------------------+----------+\n",
            "\n",
            "[SUCESSO] O modelo Bayesiano (estrutura + CPDs) foi verificado e é válido!\n",
            "O modelo agora está pronto para inferência.\n"
          ]
        }
      ],
      "source": [
        "\n",
        "# 1. Selecionar as colunas relevantes do DataFrame 'df' para o ajuste do 'model'\n",
        "# As variáveis no 'model' que você definiu são: 'topografia', 'bairro', 'drenagem', 'enchente'\n",
        "data_for_model_fit = df[['topografia', 'bairro', 'drenagem', 'enchente']]\n",
        "\n",
        "# 2. Estimar as CPDs usando Maximum Likelihood Estimator.\n",
        "# O método fit() da classe DiscreteBayesianNetwork irá preencher as CPDs para o objeto 'model'.\n",
        "print(\"Estimando CPDs para o modelo...\")\n",
        "model.fit(data_for_model_fit, estimator=MaximumLikelihoodEstimator)\n",
        "print(\"Estimação de CPDs concluída.\")\n",
        "\n",
        "# 3. Exibir as CPDs estimadas\n",
        "print(\"\\nCPDs Estimadas para o Modelo:\")\n",
        "for cpd in model.get_cpds():\n",
        "    print(f\"\\nCPD para a variável: {cpd.variable}\")\n",
        "    print(\"------------------------------------\")\n",
        "    # A pgmpy pode ter um __str__ um pouco verboso para CPDs grandes.\n",
        "    # Você pode querer inspecionar os valores da cpd de 'drenagem' com mais cuidado\n",
        "    # se a saída for muito longa. Ex: print(cpd.values) ou cpd.to_df()\n",
        "    print(cpd)\n",
        "    if cpd.variable == 'drenagem':\n",
        "        print(f\"(Nota: A CPD para '{cpd.variable}' é extensa devido ao número de combinações dos pais 'bairro' e 'topografia')\")\n",
        "        print(f\"  Número de estados de 'bairro': {len(df['bairro'].unique())}\")\n",
        "        print(f\"  Número de estados de 'topografia': {len(df['topografia'].unique())}\")\n",
        "        print(f\"  Número de estados de 'drenagem': {len(df['drenagem'].unique())}\")\n",
        "\n",
        "# 4. Verificar se o modelo (com as CPDs) está completamente definido e é válido\n",
        "try:\n",
        "    model.check_model()\n",
        "    print(\"\\n[SUCESSO] O modelo Bayesiano (estrutura + CPDs) foi verificado e é válido!\")\n",
        "    print(\"O modelo agora está pronto para inferência.\")\n",
        "except Exception as e:\n",
        "    print(f\"\\n[ERRO] Problema na verificação do modelo: {e}\")"
      ]
    },
    {
      "cell_type": "markdown",
      "metadata": {
        "id": "E_CsZq32GXx3"
      },
      "source": [
        "##Validação da Rede Bayesiana usando o método de Hold-Out (Técnica de avaliação de desempenho preditivo)\n",
        "Objetivo Geral:\n",
        "Avaliar se o modelo realmente aprende a prever enchentes com base nos dados. Para isso, ele:\n",
        "- Separa parte dos dados para treino (70%) e parte para teste (30%);\n",
        "- Treina a rede com os dados de treino;\n",
        "- Usa os dados de teste para ver se a rede acerta as previsões;\n",
        "- Calcula métricas para medir esse desempenho.\n",
        "\n",
        "\n"
      ]
    },
    {
      "cell_type": "code",
      "execution_count": null,
      "metadata": {
        "colab": {
          "base_uri": "https://localhost:8080/"
        },
        "id": "Oo4g62N9F9CD",
        "outputId": "bc0cc34f-7296-4b6c-cb76-8fcb38e261b1"
      },
      "outputs": [
        {
          "name": "stderr",
          "output_type": "stream",
          "text": [
            "WARNING:pgmpy:Replacing existing CPD for drenagem\n",
            "WARNING:pgmpy:Replacing existing CPD for enchente\n",
            "WARNING:pgmpy:Replacing existing CPD for bairro\n",
            "WARNING:pgmpy:Replacing existing CPD for topografia\n",
            "WARNING:pgmpy:Replacing existing CPD for drenagem\n",
            "WARNING:pgmpy:Replacing existing CPD for enchente\n",
            "WARNING:pgmpy:Replacing existing CPD for bairro\n",
            "WARNING:pgmpy:Replacing existing CPD for topografia\n"
          ]
        },
        {
          "name": "stdout",
          "output_type": "stream",
          "text": [
            "\n",
            "🔍 Desempenho do Modelo (Hold-out):\n",
            "ROC AUC: 0.969\n",
            "Matriz de Confusão:\n",
            " [[8 0]\n",
            " [1 7]]\n"
          ]
        }
      ],
      "source": [
        "# Ajustar CPDs\n",
        "model.fit(df, estimator=MaximumLikelihoodEstimator)\n",
        "model.check_model()\n",
        "\n",
        "# → MELHORIA 3: Validação com Hold-out <- #\n",
        "\n",
        "from sklearn.model_selection import train_test_split\n",
        "from sklearn.metrics import roc_auc_score, confusion_matrix\n",
        "from pgmpy.inference import VariableElimination\n",
        "\n",
        "# 1. Dividir os dados em treino e teste\n",
        "data = df[['bairro', 'topografia', 'drenagem', 'enchente']]\n",
        "train, test = train_test_split(data, test_size=0.3, random_state=42)\n",
        "\n",
        "# 2. Reajustar CPDs no modelo com os dados de treino\n",
        "model.fit(train, estimator=MaximumLikelihoodEstimator)\n",
        "\n",
        "# 3. Fazer inferência\n",
        "inference = VariableElimination(model)\n",
        "\n",
        "# 4. Estimar probabilidades de enchente no conjunto de teste\n",
        "y_true = test['enchente'].astype(int)\n",
        "probs = []\n",
        "for _, row in test.iterrows():\n",
        "    ev = row.drop('enchente').to_dict()\n",
        "    q = inference.query(['enchente'], evidence=ev)\n",
        "    probs.append(q.values[1])  # probabilidade de enchente=True\n",
        "\n",
        "# 5. Calcular métricas\n",
        "auc = roc_auc_score(y_true, probs)\n",
        "y_pred = [1 if p > 0.5 else 0 for p in probs]\n",
        "cm = confusion_matrix(y_true, y_pred)\n",
        "\n",
        "print(f\"\\n Desempenho do Modelo (Hold-out):\")\n",
        "print(f\"ROC AUC: {auc:.3f}\")\n",
        "print(\"Matriz de Confusão:\\n\", cm)\n"
      ]
    },
    {
      "cell_type": "markdown",
      "metadata": {
        "id": "DfUPNa3lYJKw"
      },
      "source": [
        "# Inferência Diagnóstica"
      ]
    },
    {
      "cell_type": "markdown",
      "metadata": {
        "id": "iX4dRP2DXn2m"
      },
      "source": [
        "Inferência Diagnóstica apenas dos Bairros que ocoreu enchentes"
      ]
    },
    {
      "cell_type": "code",
      "execution_count": null,
      "metadata": {
        "colab": {
          "base_uri": "https://localhost:8080/",
          "height": 885
        },
        "id": "mRLnHuePHQrR",
        "outputId": "410143ed-3b8f-43b8-fe28-c8e8b9937e34"
      },
      "outputs": [
        {
          "name": "stdout",
          "output_type": "stream",
          "text": [
            "============================================================\n",
            " DIAGNOSTICANDO 5 bairros com enchente\n"
          ]
        },
        {
          "data": {
            "image/png": "[encoded data removed]",
            "text/plain": [
              "<Figure size 1400x800 with 1 Axes>"
            ]
          },
          "metadata": {},
          "output_type": "display_data"
        },
        {
          "name": "stdout",
          "output_type": "stream",
          "text": [
            "\n",
            " DIAGNÓSTICO POR BAIRRO:\n",
            "==================================================\n",
            "centro: inadequada + baixa |  CRÍTICO\n",
            "joão paulo: inadequada + baixa |  CRÍTICO\n",
            "cohama: regular + baixa |  ALTO\n",
            "são francisco: inadequada + baixa |  CRÍTICO\n",
            "calhau: regular + baixa |  ALTO\n",
            "\n",
            " PRINCIPAIS CAUSAS:\n",
            "• Drenagem: inadequada\n",
            "• Topografia: baixa\n"
          ]
        }
      ],
      "source": [
        "# ========================================\n",
        "# DIAGNÓSTICO: UM GRÁFICO COM TODAS AS CAUSAS\n",
        "# ========================================\n",
        "\n",
        "\n",
        "# Criar inferência\n",
        "inference = VariableElimination(model)\n",
        "\n",
        "def diagnostico_unificado():\n",
        "    \"\"\"\n",
        "    Um gráfico único mostrando diagnóstico completo:\n",
        "    Drenagem + Topografia para cada bairro com enchente\n",
        "    \"\"\"\n",
        "\n",
        "    # 1. Identificar bairros com enchente observada\n",
        "    bairros_com_enchente = df[df['enchente'] == True]['bairro'].unique()\n",
        "\n",
        "    if len(bairros_com_enchente) == 0:\n",
        "        print(\" Nenhuma enchente observada nos dados\")\n",
        "        return\n",
        "\n",
        "    print(f\" DIAGNOSTICANDO {len(bairros_com_enchente)} bairros com enchente\")\n",
        "\n",
        "    # Armazenar diagnósticos\n",
        "    bairros = []\n",
        "    drenagens = []\n",
        "    topografias = []\n",
        "    probs_drenagem = []\n",
        "    probs_topografia = []\n",
        "\n",
        "    # 2. Diagnosticar cada bairro\n",
        "    for bairro in bairros_com_enchente:\n",
        "        try:\n",
        "            # Diagnóstico: Drenagem\n",
        "            diag_dren = inference.query(variables=['drenagem'],\n",
        "                                      evidence={'enchente': True, 'bairro': bairro})\n",
        "            idx_dren = np.argmax(diag_dren.values)\n",
        "            drenagem_principal = diag_dren.state_names['drenagem'][idx_dren]\n",
        "            prob_dren = diag_dren.values[idx_dren] * 100\n",
        "\n",
        "            # Diagnóstico: Topografia\n",
        "            diag_topo = inference.query(variables=['topografia'],\n",
        "                                      evidence={'enchente': True, 'bairro': bairro})\n",
        "            idx_topo = np.argmax(diag_topo.values)\n",
        "            topografia_principal = diag_topo.state_names['topografia'][idx_topo]\n",
        "            prob_topo = diag_topo.values[idx_topo] * 100\n",
        "\n",
        "            # Armazenar\n",
        "            bairros.append(bairro)\n",
        "            drenagens.append(drenagem_principal)\n",
        "            topografias.append(topografia_principal)\n",
        "            probs_drenagem.append(prob_dren)\n",
        "            probs_topografia.append(prob_topo)\n",
        "\n",
        "        except Exception as e:\n",
        "            print(f\"Erro em {bairro}: {e}\")\n",
        "\n",
        "    # 3. Criar gráfico unificado\n",
        "    fig, ax = plt.subplots(figsize=(14, 8))\n",
        "\n",
        "    # Posições das barras\n",
        "    x = np.arange(len(bairros))\n",
        "    width = 0.35\n",
        "\n",
        "    # Cores para cada tipo de causa\n",
        "    cores_drenagem = {'inadequada': '#e74c3c', 'regular': '#f39c12', 'adequada': '#27ae60'}\n",
        "    cores_topografia = {'baixa': '#c0392b', 'média': '#e67e22', 'alta': '#16a085'}\n",
        "\n",
        "    # Cores das barras\n",
        "    cores_dren_barras = [cores_drenagem.get(d, '#95a5a6') for d in drenagens]\n",
        "    cores_topo_barras = [cores_topografia.get(t, '#95a5a6') for t in topografias]\n",
        "\n",
        "    # Criar barras duplas\n",
        "    bars1 = ax.bar(x - width/2, probs_drenagem, width,\n",
        "                   color=cores_dren_barras, alpha=0.8, label='Drenagem',\n",
        "                   edgecolor='white', linewidth=1)\n",
        "\n",
        "    bars2 = ax.bar(x + width/2, probs_topografia, width,\n",
        "                   color=cores_topo_barras, alpha=0.8, label='Topografia',\n",
        "                   edgecolor='white', linewidth=1)\n",
        "\n",
        "    # Personalizar gráfico\n",
        "    ax.set_title('DIAGNÓSTICO: Por que houve enchente?',\n",
        "                 fontsize=16, fontweight='bold', pad=20)\n",
        "    ax.set_ylabel('Probabilidade da Causa (%)', fontsize=12)\n",
        "    ax.set_xlabel('Bairros com Enchente Observada', fontsize=12)\n",
        "    ax.set_xticks(x)\n",
        "    ax.set_xticklabels(bairros, rotation=45, ha='right')\n",
        "    ax.set_ylim(0, 110)\n",
        "\n",
        "    # Limpar bordas\n",
        "    ax.spines['top'].set_visible(False)\n",
        "    ax.spines['right'].set_visible(False)\n",
        "\n",
        "    # Adicionar valores e causas nas barras\n",
        "    for i, (bar1, bar2) in enumerate(zip(bars1, bars2)):\n",
        "        # Barra de drenagem\n",
        "        ax.text(bar1.get_x() + bar1.get_width()/2, bar1.get_height() + 1,\n",
        "               f'{probs_drenagem[i]:.0f}%', ha='center', va='bottom',\n",
        "               fontweight='bold', fontsize=9)\n",
        "\n",
        "        ax.text(bar1.get_x() + bar1.get_width()/2, bar1.get_height()/2,\n",
        "               drenagens[i][:4].upper(), ha='center', va='center',\n",
        "               fontweight='bold', fontsize=8, color='white')\n",
        "\n",
        "        # Barra de topografia\n",
        "        ax.text(bar2.get_x() + bar2.get_width()/2, bar2.get_height() + 1,\n",
        "               f'{probs_topografia[i]:.0f}%', ha='center', va='bottom',\n",
        "               fontweight='bold', fontsize=9)\n",
        "\n",
        "        ax.text(bar2.get_x() + bar2.get_width()/2, bar2.get_height()/2,\n",
        "               topografias[i][:4].upper(), ha='center', va='center',\n",
        "               fontweight='bold', fontsize=8, color='white')\n",
        "\n",
        "    # Legenda unificada\n",
        "    legend_elements = [\n",
        "        # Drenagem\n",
        "        plt.Rectangle((0,0),1,1, color='#e74c3c', label='Drenagem Inadequada'),\n",
        "        plt.Rectangle((0,0),1,1, color='#f39c12', label='Drenagem Regular'),\n",
        "        plt.Rectangle((0,0),1,1, color='#27ae60', label='Drenagem Adequada'),\n",
        "        # Separador\n",
        "        plt.Rectangle((0,0),1,1, color='white', label=''),\n",
        "        # Topografia\n",
        "        plt.Rectangle((0,0),1,1, color='#c0392b', label='Topografia Baixa'),\n",
        "        plt.Rectangle((0,0),1,1, color='#e67e22', label='Topografia Média'),\n",
        "        plt.Rectangle((0,0),1,1, color='#16a085', label='Topografia Alta')\n",
        "    ]\n",
        "\n",
        "    ax.legend(handles=legend_elements, loc='upper left', frameon=False, ncol=2)\n",
        "\n",
        "    plt.tight_layout()\n",
        "    plt.show()\n",
        "\n",
        "    # 4. Resumo diagnóstico\n",
        "    print(f\"\\n DIAGNÓSTICO POR BAIRRO:\")\n",
        "    print(\"=\"*50)\n",
        "\n",
        "    for i, bairro in enumerate(bairros):\n",
        "        dren = drenagens[i]\n",
        "        topo = topografias[i]\n",
        "\n",
        "        # Avaliar severidade\n",
        "        if dren == 'inadequada' and topo == 'baixa':\n",
        "            nivel = \" CRÍTICO\"\n",
        "        elif dren == 'inadequada' or topo == 'baixa':\n",
        "            nivel = \" ALTO\"\n",
        "        else:\n",
        "            nivel = \" MODERADO\"\n",
        "\n",
        "        print(f\"{bairro}: {dren} + {topo} | {nivel}\")\n",
        "\n",
        "    # Principais descobertas\n",
        "    dren_comum = max(set(drenagens), key=drenagens.count)\n",
        "    topo_comum = max(set(topografias), key=topografias.count)\n",
        "\n",
        "    print(f\"\\n PRINCIPAIS CAUSAS:\")\n",
        "    print(f\"• Drenagem: {dren_comum}\")\n",
        "    print(f\"• Topografia: {topo_comum}\")\n",
        "\n",
        "# Executar diagnóstico unificado\n",
        "\n",
        "print(\"=\"*60)\n",
        "diagnostico_unificado()"
      ]
    },
    {
      "cell_type": "markdown",
      "metadata": {
        "id": "Lo-034_yc-Ln"
      },
      "source": [
        "##INFERÊNCIAS"
      ]
    },
    {
      "cell_type": "markdown",
      "metadata": {
        "id": "Py_jGi-Wc5NF"
      },
      "source": [
        "**Consulta 01:** Probabilidade de enchente dado bairro='Centro', topografia='baixa', e drenagem='inadequada'."
      ]
    },
    {
      "cell_type": "code",
      "execution_count": null,
      "metadata": {
        "id": "xSIWURCmZ493"
      },
      "outputs": [],
      "source": []
    },
    {
      "cell_type": "code",
      "execution_count": null,
      "metadata": {
        "colab": {
          "base_uri": "https://localhost:8080/"
        },
        "id": "oSzwmIsoM6fV",
        "outputId": "0b5355fe-c89f-4dba-a2d3-bcd0c86e6678"
      },
      "outputs": [
        {
          "name": "stdout",
          "output_type": "stream",
          "text": [
            "+-----------------+-----------------+\n",
            "| enchente        |   phi(enchente) |\n",
            "+=================+=================+\n",
            "| enchente(False) |          0.0000 |\n",
            "+-----------------+-----------------+\n",
            "| enchente(True)  |          1.0000 |\n",
            "+-----------------+-----------------+\n"
          ]
        }
      ],
      "source": [
        "\n",
        "query_preditiva = inference.query(\n",
        "    variables=['enchente'],\n",
        "    evidence={\n",
        "        'bairro': 'centro',\n",
        "        'topografia': 'baixa',\n",
        "        'drenagem': 'inadequada'\n",
        "    }\n",
        ")\n",
        "print(query_preditiva)"
      ]
    },
    {
      "cell_type": "markdown",
      "metadata": {
        "id": "uSQgE-vVdG1B"
      },
      "source": [
        "**Consulta 02:** Probabilidade dos estados de drenagem dado bairro='Vinhais', topografia='média', e enchente=False (não houve enchente)."
      ]
    },
    {
      "cell_type": "code",
      "execution_count": null,
      "metadata": {
        "colab": {
          "base_uri": "https://localhost:8080/"
        },
        "id": "i6jvR-AlPCWX",
        "outputId": "b8f31002-85eb-4861-9942-0c23c57e69cb"
      },
      "outputs": [
        {
          "name": "stdout",
          "output_type": "stream",
          "text": [
            "+----------------------+-----------------+\n",
            "| drenagem             |   phi(drenagem) |\n",
            "+======================+=================+\n",
            "| drenagem(adequada)   |          1.0000 |\n",
            "+----------------------+-----------------+\n",
            "| drenagem(inadequada) |          0.0000 |\n",
            "+----------------------+-----------------+\n",
            "| drenagem(regular)    |          0.0000 |\n",
            "+----------------------+-----------------+\n"
          ]
        }
      ],
      "source": [
        "query_diagnostica = inference.query(\n",
        "    variables=['drenagem'],\n",
        "    evidence={\n",
        "        'bairro': 'vinhais',\n",
        "        'topografia': 'média',\n",
        "        'enchente': False\n",
        "    }\n",
        ")\n",
        "print(query_diagnostica)"
      ]
    },
    {
      "cell_type": "markdown",
      "metadata": {
        "id": "-5bmQPiEdNlg"
      },
      "source": [
        "**Consulta 03:** Probabilidade de enchente dado bairro='Calhau' e topografia='baixa' (o estado da drenagem não é fornecido como evidência e é inferido pelo modelo)."
      ]
    },
    {
      "cell_type": "code",
      "execution_count": null,
      "metadata": {
        "colab": {
          "base_uri": "https://localhost:8080/"
        },
        "id": "nsLERdvobL1z",
        "outputId": "049a8b80-48c7-4cfe-853f-670b83bd2b0b"
      },
      "outputs": [
        {
          "name": "stdout",
          "output_type": "stream",
          "text": [
            "Situação 1: Drenagem Inferida\n",
            "+-----------------+-----------------+\n",
            "| enchente        |   phi(enchente) |\n",
            "+=================+=================+\n",
            "| enchente(False) |          0.6923 |\n",
            "+-----------------+-----------------+\n",
            "| enchente(True)  |          0.3077 |\n",
            "+-----------------+-----------------+\n"
          ]
        }
      ],
      "source": [
        "query_situacao_1 = inference.query(\n",
        "    variables=['enchente'],\n",
        "    evidence={\n",
        "        'bairro': 'calhau',\n",
        "        'topografia': 'baixa'\n",
        "    }\n",
        ")\n",
        "print(\"Situação 1: Drenagem Inferida\")\n",
        "print(query_situacao_1)"
      ]
    },
    {
      "cell_type": "markdown",
      "metadata": {
        "id": "SnGwaImpdU5H"
      },
      "source": [
        "**Consulta 04:** Probabilidade de enchente dado bairro='Calhau', topografia='baixa', e drenagem='inadequada' (o estado da drenagem é fornecido diretamente)."
      ]
    },
    {
      "cell_type": "code",
      "execution_count": null,
      "metadata": {
        "colab": {
          "base_uri": "https://localhost:8080/"
        },
        "id": "OU_2QYTSb9wC",
        "outputId": "8785228f-1977-464f-b638-8420e7c04610"
      },
      "outputs": [
        {
          "name": "stdout",
          "output_type": "stream",
          "text": [
            "\n",
            "Situação 2: Drenagem Observada como 'Inadequada'\n",
            "+-----------------+-----------------+\n",
            "| enchente        |   phi(enchente) |\n",
            "+=================+=================+\n",
            "| enchente(False) |          0.0000 |\n",
            "+-----------------+-----------------+\n",
            "| enchente(True)  |          1.0000 |\n",
            "+-----------------+-----------------+\n"
          ]
        }
      ],
      "source": [
        "# Supondo que 'inference' já foi criado como no notebook\n",
        "query_situacao_2 = inference.query(\n",
        "    variables=['enchente'],\n",
        "    evidence={\n",
        "        'bairro': 'calhau',\n",
        "        'topografia': 'baixa',\n",
        "        'drenagem': 'inadequada'  # Evidência direta sobre a drenagem\n",
        "    }\n",
        ")\n",
        "print(\"\\nSituação 2: Drenagem Observada como 'Inadequada'\")\n",
        "print(query_situacao_2)"
      ]
    },
    {
      "cell_type": "markdown",
      "metadata": {
        "id": "M6RnhUMEdw-A"
      },
      "source": [
        " Essas quatro inferências ilustram diferentes formas de utilizar a Rede Bayesiana: para predição direta de um evento (enchente) sob condições totalmente especificadas, para diagnóstico de fatores contribuintes (drenagem) dado um resultado, e para comparar como as probabilidades mudam quando informações mais específicas (observação direta da drenagem) são introduzidas no modelo."
      ]
    }
  ],
  "metadata": {
    "colab": {
      "provenance": []
    },
    "kernelspec": {
      "display_name": "Python 3",
      "name": "python3"
    },
    "language_info": {
      "name": "python"
    },
    "widgets": {
      "application/vnd.jupyter.widget-state+json": {
        "0ae48da7755f4aa49999258983507571": {
          "model_module": "@jupyter-widgets/controls",
          "model_module_version": "1.5.0",
          "model_name": "HTMLModel",
          "state": {
            "_dom_classes": [],
            "_model_module": "@jupyter-widgets/controls",
            "_model_module_version": "1.5.0",
            "_model_name": "HTMLModel",
            "_view_count": null,
            "_view_module": "@jupyter-widgets/controls",
            "_view_module_version": "1.5.0",
            "_view_name": "HTMLView",
            "description": "",
            "description_tooltip": null,
            "layout": "IPY_MODEL_81f012d2c5f74d6082e2909729964189",
            "placeholder": "​",
            "style": "IPY_MODEL_7f47cc8266594fcab7517b2209178a01",
            "value": " 4/5 [00:00&lt;00:00,  2.75it/s]"
          }
        },
        "2f4de3aa2323458198d1697baf80826c": {
          "model_module": "@jupyter-widgets/controls",
          "model_module_version": "1.5.0",
          "model_name": "DescriptionStyleModel",
          "state": {
            "_model_module": "@jupyter-widgets/controls",
            "_model_module_version": "1.5.0",
            "_model_name": "DescriptionStyleModel",
            "_view_count": null,
            "_view_module": "@jupyter-widgets/base",
            "_view_module_version": "1.2.0",
            "_view_name": "StyleView",
            "description_width": ""
          }
        },
        "65f5cfa2eac64739a1fa363adb891c65": {
          "model_module": "@jupyter-widgets/base",
          "model_module_version": "1.2.0",
          "model_name": "LayoutModel",
          "state": {
            "_model_module": "@jupyter-widgets/base",
            "_model_module_version": "1.2.0",
            "_model_name": "LayoutModel",
            "_view_count": null,
            "_view_module": "@jupyter-widgets/base",
            "_view_module_version": "1.2.0",
            "_view_name": "LayoutView",
            "align_content": null,
            "align_items": null,
            "align_self": null,
            "border": null,
            "bottom": null,
            "display": null,
            "flex": null,
            "flex_flow": null,
            "grid_area": null,
            "grid_auto_columns": null,
            "grid_auto_flow": null,
            "grid_auto_rows": null,
            "grid_column": null,
            "grid_gap": null,
            "grid_row": null,
            "grid_template_areas": null,
            "grid_template_columns": null,
            "grid_template_rows": null,
            "height": null,
            "justify_content": null,
            "justify_items": null,
            "left": null,
            "margin": null,
            "max_height": null,
            "max_width": null,
            "min_height": null,
            "min_width": null,
            "object_fit": null,
            "object_position": null,
            "order": null,
            "overflow": null,
            "overflow_x": null,
            "overflow_y": null,
            "padding": null,
            "right": null,
            "top": null,
            "visibility": null,
            "width": null
          }
        },
        "78a704ad9bc745a28309ae8c6c115bc5": {
          "model_module": "@jupyter-widgets/controls",
          "model_module_version": "1.5.0",
          "model_name": "FloatProgressModel",
          "state": {
            "_dom_classes": [],
            "_model_module": "@jupyter-widgets/controls",
            "_model_module_version": "1.5.0",
            "_model_name": "FloatProgressModel",
            "_view_count": null,
            "_view_module": "@jupyter-widgets/controls",
            "_view_module_version": "1.5.0",
            "_view_name": "ProgressView",
            "bar_style": "danger",
            "description": "",
            "description_tooltip": null,
            "layout": "IPY_MODEL_65f5cfa2eac64739a1fa363adb891c65",
            "max": 5,
            "min": 0,
            "orientation": "horizontal",
            "style": "IPY_MODEL_7f20a235ad48455ca551bdb0ed395d6d",
            "value": 4
          }
        },
        "7f20a235ad48455ca551bdb0ed395d6d": {
          "model_module": "@jupyter-widgets/controls",
          "model_module_version": "1.5.0",
          "model_name": "ProgressStyleModel",
          "state": {
            "_model_module": "@jupyter-widgets/controls",
            "_model_module_version": "1.5.0",
            "_model_name": "ProgressStyleModel",
            "_view_count": null,
            "_view_module": "@jupyter-widgets/base",
            "_view_module_version": "1.2.0",
            "_view_name": "StyleView",
            "bar_color": null,
            "description_width": ""
          }
        },
        "7f47cc8266594fcab7517b2209178a01": {
          "model_module": "@jupyter-widgets/controls",
          "model_module_version": "1.5.0",
          "model_name": "DescriptionStyleModel",
          "state": {
            "_model_module": "@jupyter-widgets/controls",
            "_model_module_version": "1.5.0",
            "_model_name": "DescriptionStyleModel",
            "_view_count": null,
            "_view_module": "@jupyter-widgets/base",
            "_view_module_version": "1.2.0",
            "_view_name": "StyleView",
            "description_width": ""
          }
        },
        "81f012d2c5f74d6082e2909729964189": {
          "model_module": "@jupyter-widgets/base",
          "model_module_version": "1.2.0",
          "model_name": "LayoutModel",
          "state": {
            "_model_module": "@jupyter-widgets/base",
            "_model_module_version": "1.2.0",
            "_model_name": "LayoutModel",
            "_view_count": null,
            "_view_module": "@jupyter-widgets/base",
            "_view_module_version": "1.2.0",
            "_view_name": "LayoutView",
            "align_content": null,
            "align_items": null,
            "align_self": null,
            "border": null,
            "bottom": null,
            "display": null,
            "flex": null,
            "flex_flow": null,
            "grid_area": null,
            "grid_auto_columns": null,
            "grid_auto_flow": null,
            "grid_auto_rows": null,
            "grid_column": null,
            "grid_gap": null,
            "grid_row": null,
            "grid_template_areas": null,
            "grid_template_columns": null,
            "grid_template_rows": null,
            "height": null,
            "justify_content": null,
            "justify_items": null,
            "left": null,
            "margin": null,
            "max_height": null,
            "max_width": null,
            "min_height": null,
            "min_width": null,
            "object_fit": null,
            "object_position": null,
            "order": null,
            "overflow": null,
            "overflow_x": null,
            "overflow_y": null,
            "padding": null,
            "right": null,
            "top": null,
            "visibility": null,
            "width": null
          }
        },
        "8701e0dd554f499e9e46c094a1bc2433": {
          "model_module": "@jupyter-widgets/base",
          "model_module_version": "1.2.0",
          "model_name": "LayoutModel",
          "state": {
            "_model_module": "@jupyter-widgets/base",
            "_model_module_version": "1.2.0",
            "_model_name": "LayoutModel",
            "_view_count": null,
            "_view_module": "@jupyter-widgets/base",
            "_view_module_version": "1.2.0",
            "_view_name": "LayoutView",
            "align_content": null,
            "align_items": null,
            "align_self": null,
            "border": null,
            "bottom": null,
            "display": null,
            "flex": null,
            "flex_flow": null,
            "grid_area": null,
            "grid_auto_columns": null,
            "grid_auto_flow": null,
            "grid_auto_rows": null,
            "grid_column": null,
            "grid_gap": null,
            "grid_row": null,
            "grid_template_areas": null,
            "grid_template_columns": null,
            "grid_template_rows": null,
            "height": null,
            "justify_content": null,
            "justify_items": null,
            "left": null,
            "margin": null,
            "max_height": null,
            "max_width": null,
            "min_height": null,
            "min_width": null,
            "object_fit": null,
            "object_position": null,
            "order": null,
            "overflow": null,
            "overflow_x": null,
            "overflow_y": null,
            "padding": null,
            "right": null,
            "top": null,
            "visibility": null,
            "width": null
          }
        },
        "c06d4ac1e3bc493c9c9f6b51c8610852": {
          "model_module": "@jupyter-widgets/controls",
          "model_module_version": "1.5.0",
          "model_name": "HTMLModel",
          "state": {
            "_dom_classes": [],
            "_model_module": "@jupyter-widgets/controls",
            "_model_module_version": "1.5.0",
            "_model_name": "HTMLModel",
            "_view_count": null,
            "_view_module": "@jupyter-widgets/controls",
            "_view_module_version": "1.5.0",
            "_view_name": "HTMLView",
            "description": "",
            "description_tooltip": null,
            "layout": "IPY_MODEL_8701e0dd554f499e9e46c094a1bc2433",
            "placeholder": "​",
            "style": "IPY_MODEL_2f4de3aa2323458198d1697baf80826c",
            "value": "Working for n conditional variables: 4:  80%"
          }
        },
        "d12cd12b75d54a44b6a7f2ba743b917e": {
          "model_module": "@jupyter-widgets/base",
          "model_module_version": "1.2.0",
          "model_name": "LayoutModel",
          "state": {
            "_model_module": "@jupyter-widgets/base",
            "_model_module_version": "1.2.0",
            "_model_name": "LayoutModel",
            "_view_count": null,
            "_view_module": "@jupyter-widgets/base",
            "_view_module_version": "1.2.0",
            "_view_name": "LayoutView",
            "align_content": null,
            "align_items": null,
            "align_self": null,
            "border": null,
            "bottom": null,
            "display": null,
            "flex": null,
            "flex_flow": null,
            "grid_area": null,
            "grid_auto_columns": null,
            "grid_auto_flow": null,
            "grid_auto_rows": null,
            "grid_column": null,
            "grid_gap": null,
            "grid_row": null,
            "grid_template_areas": null,
            "grid_template_columns": null,
            "grid_template_rows": null,
            "height": null,
            "justify_content": null,
            "justify_items": null,
            "left": null,
            "margin": null,
            "max_height": null,
            "max_width": null,
            "min_height": null,
            "min_width": null,
            "object_fit": null,
            "object_position": null,
            "order": null,
            "overflow": null,
            "overflow_x": null,
            "overflow_y": null,
            "padding": null,
            "right": null,
            "top": null,
            "visibility": null,
            "width": null
          }
        },
        "state": {
          "e1bb77c5f63346648c9f3f59219508da": {
            "model_module": "@jupyter-widgets/controls",
            "model_module_version": "1.5.0",
            "model_name": "HBoxModel",
            "state": {
              "_dom_classes": [],
              "_model_module": "@jupyter-widgets/controls",
              "_model_module_version": "1.5.0",
              "_model_name": "HBoxModel",
              "_view_count": null,
              "_view_module": "@jupyter-widgets/controls",
              "_view_module_version": "1.5.0",
              "_view_name": "HBoxView",
              "box_style": "",
              "children": [
                "IPY_MODEL_c06d4ac1e3bc493c9c9f6b51c8610852",
                "IPY_MODEL_78a704ad9bc745a28309ae8c6c115bc5",
                "IPY_MODEL_0ae48da7755f4aa49999258983507571"
              ],
              "layout": "IPY_MODEL_d12cd12b75d54a44b6a7f2ba743b917e"
            }
          }
        }
      }
    }
  },
  "nbformat": 4,
  "nbformat_minor": 0
}
